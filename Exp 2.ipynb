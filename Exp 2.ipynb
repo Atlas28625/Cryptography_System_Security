{
 "cells": [
  {
   "cell_type": "markdown",
   "id": "automatic-criterion",
   "metadata": {},
   "source": [
    "# Exp 2\n",
    "---\n",
    "1902079\n",
    "\n",
    "## Playfair Cipher\n",
    "\n",
    "### Method\n",
    "- Use a dictionary as a hashmap.\n",
    "- Store each letter of the key in the dictionary as the key with the i and j matrix value as the value\n",
    "- store the rest of the alphabets with their corresponding values in the dictionary\n",
    "- take each pair of characters from the plaintext and search their individual i and j values from the dictionary.\n",
    "\n",
    "In this case, the keyword is monarchy. The matrix is constructed by filling in the letters of the keyword (minus duplicates) from left to right and from top to bottom, and then filling in the remainder of the matrix with the remaining letters in alphabetic order.​\n",
    "The letters I and J count as one letter.​\n",
    "Plaintext is encrypted two letters at a time, according to the following rules: ​\n",
    "1. Repeating plaintext letters that are in the same pair are separated with a filler letter, such as x, so that balloon would be treated as ba lx lo on.​\n",
    "2. Two plaintext letters that fall in the same row of the matrix are each replaced by the letter to the right, with the first element of the row circularly following the last. For example, ar is encrypted as RM. ​\n",
    "3. Two plaintext letters that fall in the same column are each replaced by the letter beneath, with the top element of the column circularly following the last. For example, mu is encrypted as CM.​\n",
    "4. Otherwise, each plaintext letter in a pair is replaced by the letter that lies in its own row and the column occupied by the other plaintext letter. Thus, hs becomes BP and ea becomes IM (or JM, as the encipherer wishes).​"
   ]
  },
  {
   "cell_type": "code",
   "execution_count": 14,
   "id": "further-wesley",
   "metadata": {},
   "outputs": [],
   "source": [
    "text = \"instruments\"\n",
    "key = \"monarchy\""
   ]
  },
  {
   "cell_type": "code",
   "execution_count": 16,
   "id": "norman-inventory",
   "metadata": {},
   "outputs": [],
   "source": [
    "def take_input():\n",
    "    global text\n",
    "    global key\n",
    "    text = input('Enter plaintext: ')\n",
    "    key = input('Enter key: ')\n",
    "    \n",
    "def update_char(ch):\n",
    "    return chr(ord(ch) + 1)\n",
    "    \n",
    "# Checks if the character is in the table or not. if not then adds it with the corresponding i,j value.\n",
    "def update_table(ch,i):\n",
    "    if ch not in table:\n",
    "        if (not((ch == 'j') and ('i' in table)) or ((ch == 'i') and ('j' in table))):\n",
    "            table[ch] = [(i//5), (i%5)]\n",
    "            return True\n",
    "    return False\n",
    "\n",
    "# a function to take two characters and return the corresponding code.\n",
    "def encode(txt1,txt2):\n",
    "        \n",
    "    i1,j1 = table[txt1]\n",
    "    i2,j2 = table[txt2]\n",
    "    \n",
    "    if i1 == i2:\n",
    "        j1,j2 = (j1+1)%5, (j2+1)%5\n",
    "\n",
    "    elif j1 == j2:\n",
    "        i1,i2 = (i1+1)%5, (i2+1)%5\n",
    "        \n",
    "    else: # j1 and j2 flipped for normal search\n",
    "        j1,j2 = j2,j1\n",
    "        \n",
    "    for x in table:\n",
    "        if table[x] == [i1,j1]:\n",
    "            ch1 = x\n",
    "        if table[x] == [i2,j2]:\n",
    "            ch2 = x\n",
    "    return ch1+ch2"
   ]
  },
  {
   "cell_type": "code",
   "execution_count": 17,
   "id": "accessory-hampshire",
   "metadata": {},
   "outputs": [
    {
     "data": {
      "text/plain": [
       "'H'"
      ]
     },
     "execution_count": 17,
     "metadata": {},
     "output_type": "execute_result"
    }
   ],
   "source": [
    "update_char('G')"
   ]
  },
  {
   "cell_type": "code",
   "execution_count": 18,
   "id": "infrared-jordan",
   "metadata": {},
   "outputs": [],
   "source": [
    "table = {}"
   ]
  },
  {
   "cell_type": "code",
   "execution_count": 19,
   "id": "welsh-algorithm",
   "metadata": {},
   "outputs": [
    {
     "data": {
      "text/plain": [
       "{}"
      ]
     },
     "execution_count": 19,
     "metadata": {},
     "output_type": "execute_result"
    }
   ],
   "source": [
    "table"
   ]
  },
  {
   "cell_type": "markdown",
   "id": "employed-helen",
   "metadata": {},
   "source": [
    "i = 0\n",
    "for i in range(0,len(key)):\n",
    "    if key[i] not in table:\n",
    "        if (not(((key[i] == 'j') and ('i' in table)) or ((key[i] == 'i') and ('j' in table)))):\n",
    "            table[key[i]] = [(i//5), (i%5)]\n",
    "print(table)"
   ]
  },
  {
   "cell_type": "code",
   "execution_count": 20,
   "id": "quick-communist",
   "metadata": {},
   "outputs": [
    {
     "name": "stdout",
     "output_type": "stream",
     "text": [
      "{'m': [0, 0], 'o': [0, 1], 'n': [0, 2], 'a': [0, 3], 'r': [0, 4], 'c': [1, 0], 'h': [1, 1], 'y': [1, 2]}\n"
     ]
    }
   ],
   "source": [
    "# Add key first space onwards\n",
    "i = 0\n",
    "for i in range(0,len(key)):\n",
    "    update_table(key[i],i)\n",
    "print(table)"
   ]
  },
  {
   "cell_type": "markdown",
   "id": "funded-blank",
   "metadata": {},
   "source": [
    "i = len(table)\n",
    "ch = 'a'\n",
    "while i < 25:\n",
    "    if ch not in table:\n",
    "        if (not((ch == 'j') and ('i' in table)) or ((ch == 'i') and ('j' in table))):\n",
    "            table[ch] = [(i//5), (i%5)]\n",
    "            i+=1\n",
    "    ch = update_char(ch)\n",
    "print(table)"
   ]
  },
  {
   "cell_type": "code",
   "execution_count": 21,
   "id": "wireless-matrix",
   "metadata": {},
   "outputs": [
    {
     "name": "stdout",
     "output_type": "stream",
     "text": [
      "{'m': [0, 0], 'o': [0, 1], 'n': [0, 2], 'a': [0, 3], 'r': [0, 4], 'c': [1, 0], 'h': [1, 1], 'y': [1, 2], 'b': [1, 3], 'd': [1, 4], 'e': [2, 0], 'f': [2, 1], 'g': [2, 2], 'i': [2, 3], 'k': [2, 4], 'l': [3, 0], 'p': [3, 1], 'q': [3, 2], 's': [3, 3], 't': [3, 4], 'u': [4, 0], 'v': [4, 1], 'w': [4, 2], 'x': [4, 3], 'z': [4, 4]}\n"
     ]
    }
   ],
   "source": [
    "#Trying to replace the common code with a function in the above cell\n",
    "\n",
    "#Add rest of the letters\n",
    "i = len(table)\n",
    "ch = 'a'\n",
    "while i < 25:\n",
    "    if update_table(ch,i):\n",
    "        i+=1\n",
    "    ch = update_char(ch)\n",
    "print(table)"
   ]
  },
  {
   "cell_type": "code",
   "execution_count": 22,
   "id": "cardiac-theta",
   "metadata": {},
   "outputs": [
    {
     "data": {
      "text/plain": [
       "{'m': [0, 0],\n",
       " 'o': [0, 1],\n",
       " 'n': [0, 2],\n",
       " 'a': [0, 3],\n",
       " 'r': [0, 4],\n",
       " 'c': [1, 0],\n",
       " 'h': [1, 1],\n",
       " 'y': [1, 2],\n",
       " 'b': [1, 3],\n",
       " 'd': [1, 4],\n",
       " 'e': [2, 0],\n",
       " 'f': [2, 1],\n",
       " 'g': [2, 2],\n",
       " 'i': [2, 3],\n",
       " 'k': [2, 4],\n",
       " 'l': [3, 0],\n",
       " 'p': [3, 1],\n",
       " 'q': [3, 2],\n",
       " 's': [3, 3],\n",
       " 't': [3, 4],\n",
       " 'u': [4, 0],\n",
       " 'v': [4, 1],\n",
       " 'w': [4, 2],\n",
       " 'x': [4, 3],\n",
       " 'z': [4, 4]}"
      ]
     },
     "execution_count": 22,
     "metadata": {},
     "output_type": "execute_result"
    }
   ],
   "source": [
    "table"
   ]
  },
  {
   "cell_type": "code",
   "execution_count": 23,
   "id": "demonstrated-format",
   "metadata": {},
   "outputs": [
    {
     "name": "stdout",
     "output_type": "stream",
     "text": [
      "instrumentsz\n",
      "0\n",
      "2\n",
      "4\n",
      "6\n",
      "8\n",
      "10\n",
      "gatlmzclrqtx\n"
     ]
    }
   ],
   "source": [
    "codeword = ''\n",
    "if len(text) %2 != 0:\n",
    "    text+='z'\n",
    "print(text)\n",
    "for i in range(0,len(text)-1,2):\n",
    "    print(i)\n",
    "    codeword += encode(text[i], text[i+1])\n",
    "print(codeword)"
   ]
  },
  {
   "cell_type": "markdown",
   "id": "informational-devon",
   "metadata": {},
   "source": [
    "list(table.values()).index([1,1])\n"
   ]
  },
  {
   "cell_type": "markdown",
   "id": "accurate-profession",
   "metadata": {},
   "source": [
    "\n",
    "list(table.keys())[6]"
   ]
  },
  {
   "cell_type": "code",
   "execution_count": null,
   "id": "excess-greensboro",
   "metadata": {},
   "outputs": [],
   "source": []
  },
  {
   "cell_type": "code",
   "execution_count": 38,
   "id": "reduced-ozone",
   "metadata": {},
   "outputs": [
    {
     "name": "stdout",
     "output_type": "stream",
     "text": [
      "Enter plaintext: instruments\n",
      "Enter key: monarchy\n",
      "instrumentsz\n",
      "gatlmzclrqtx\n"
     ]
    }
   ],
   "source": [
    "def take_input():\n",
    "    global text\n",
    "    global key\n",
    "    text = input('Enter plaintext: ').lower()\n",
    "    key = input('Enter key: ').lower()\n",
    "    \n",
    "def update_char(ch):\n",
    "    return chr(ord(ch) + 1)\n",
    "    \n",
    "# Checks if the character is in the table or not. if not then adds it with the corresponding i,j value.\n",
    "def update_table(ch,i):\n",
    "    if ch not in table:\n",
    "        if (not((ch == 'j') and ('i' in table)) or ((ch == 'i') and ('j' in table))):\n",
    "            table[ch] = [(i//5), (i%5)]\n",
    "            return True\n",
    "    return False\n",
    "\n",
    "# a function to take two characters and return the corresponding code.\n",
    "def encode(txt1,txt2):\n",
    "    ch1,ch2 = '', ''\n",
    "        \n",
    "    i1,j1 = table[txt1]\n",
    "    i2,j2 = table[txt2]\n",
    "    \n",
    "    if i1 == i2:\n",
    "        j1,j2 = (j1+1)%5, (j2+1)%5\n",
    "\n",
    "    elif j1 == j2:\n",
    "        i1,i2 = (i1+1)%5, (i2+1)%5\n",
    "        \n",
    "    else: # j1 and j2 flipped for normal search\n",
    "        j1,j2 = j2,j1\n",
    "        \n",
    "    for x in table:\n",
    "        if table[x] == [i1,j1]:\n",
    "            ch1 = x\n",
    "        if table[x] == [i2,j2]:\n",
    "            ch2 = x\n",
    "    return ch1+ch2\n",
    "\n",
    "table = {}\n",
    "take_input()\n",
    "# Add key first space onwards\n",
    "i = 0\n",
    "for i in range(0,len(key)):\n",
    "    update_table(key[i],i)\n",
    "\n",
    "\n",
    "#Add rest of the letters\n",
    "i = len(table)\n",
    "ch = 'a'\n",
    "while i < 25:\n",
    "    if update_table(ch,i):\n",
    "        i+=1\n",
    "    ch = update_char(ch)\n",
    "\n",
    "codeword = ''\n",
    "if len(text) %2 != 0:\n",
    "    text+='z'\n",
    "print(text)\n",
    "for i in range(0,len(text)-1,2):\n",
    "#    print(text[i])\n",
    "    codeword += encode(text[i], text[i+1])\n",
    "print(codeword)"
   ]
  },
  {
   "cell_type": "code",
   "execution_count": null,
   "id": "eight-framework",
   "metadata": {},
   "outputs": [],
   "source": []
  }
 ],
 "metadata": {
  "kernelspec": {
   "display_name": "Python 3",
   "language": "python",
   "name": "python3"
  },
  "language_info": {
   "codemirror_mode": {
    "name": "ipython",
    "version": 3
   },
   "file_extension": ".py",
   "mimetype": "text/x-python",
   "name": "python",
   "nbconvert_exporter": "python",
   "pygments_lexer": "ipython3",
   "version": "3.9.1"
  }
 },
 "nbformat": 4,
 "nbformat_minor": 5
}
